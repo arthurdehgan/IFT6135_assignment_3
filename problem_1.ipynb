{
 "cells": [
  {
   "cell_type": "markdown",
   "metadata": {
    "colab_type": "text",
    "id": "pZR1au_Kszbz"
   },
   "source": [
    "# Problem1"
   ]
  },
  {
   "cell_type": "code",
   "execution_count": 0,
   "metadata": {
    "colab": {},
    "colab_type": "code",
    "id": "4cg9TJEcGBqp"
   },
   "outputs": [],
   "source": [
    "import torch\n",
    "import torch.nn as nn\n",
    "import torch.nn.functional as ftl\n",
    "from torch.optim import SGD\n",
    "import numpy as np\n",
    "import matplotlib.pyplot as plt\n",
    "import samplers\n",
    "import torch.optim as optim\n"
   ]
  },
  {
   "cell_type": "markdown",
   "metadata": {
    "colab_type": "text",
    "id": "ryiSlJoZyTg9"
   },
   "source": [
    "### Disctrimiator class"
   ]
  },
  {
   "cell_type": "code",
   "execution_count": 0,
   "metadata": {
    "colab": {},
    "colab_type": "code",
    "id": "miYSf3RmGIeO"
   },
   "outputs": [],
   "source": [
    "#disctrimiator\n",
    "class Classifier(nn.Module):\n",
    "    def __init__(self, input_size):\n",
    "        super(Classifier, self).__init__()\n",
    "        self.model = nn.Sequential(\n",
    "            nn.Linear(input_size, 32),\n",
    "            nn.ReLU(),\n",
    "            nn.Linear(32, 32),\n",
    "            nn.ReLU(),\n",
    "            nn.Linear(32, 1),\n",
    "\n",
    "        )\n",
    "\n",
    "    def forward(self, x):\n",
    "        return self.model(x)"
   ]
  },
  {
   "cell_type": "markdown",
   "metadata": {
    "colab_type": "text",
    "id": "KFypC5rwyYae"
   },
   "source": [
    "### Estimate the JSD between two distributions"
   ]
  },
  {
   "cell_type": "code",
   "execution_count": 0,
   "metadata": {
    "colab": {},
    "colab_type": "code",
    "id": "zZ__6QmfNRit"
   },
   "outputs": [],
   "source": [
    "def estimate_JSD(dist1, dist2, num_epochs,dim_input=2):\n",
    "\n",
    "    D = Classifier(dim_input).cuda()\n",
    "  \n",
    "    #optimizer = SGD(D.parameters(), lr=0.001)\n",
    "    optimizer = optim.Adam(D.parameters())\n",
    "    for it in range(num_epochs):\n",
    "        D.zero_grad()\n",
    "        x_1 = torch.from_numpy(next(dist1)).float().cuda()\n",
    "        x_2 = torch.from_numpy(next(dist2)).float().cuda()\n",
    "        y_1 = ftl.sigmoid(D(x_1))\n",
    "        y_2 = ftl.sigmoid(D(x_2))\n",
    "        loss = - torch.log(y_1).mean() - torch.log(1 - y_2).mean()\n",
    "        loss.backward()\n",
    "        optimizer.step()\n",
    "        g=np.log(2) + (0.5*torch.log(y_1).mean() + 0.5*torch.log(1 - y_2).mean()).data.cpu().numpy()\n",
    "    return D,g\n"
   ]
  },
  {
   "cell_type": "markdown",
   "metadata": {
    "colab_type": "text",
    "id": "LSJAAZ12D6XS"
   },
   "source": [
    "### Estimate the WD between two distributions"
   ]
  },
  {
   "cell_type": "code",
   "execution_count": 0,
   "metadata": {
    "colab": {},
    "colab_type": "code",
    "id": "O_LlTcAKNURH"
   },
   "outputs": [],
   "source": [
    "def estimate_WD(dist1, dist2,num_epochs ):\n",
    "  \n",
    "    D = Classifier(2).cuda()\n",
    "    #optimizer = SGD(D.parameters(), lr=0.001)\n",
    "    optimizer = optim.Adam(D.parameters())\n",
    "\n",
    "    dist_a = samplers.distribution2()\n",
    "    lambda_ = 10\n",
    "\n",
    "    for it in range(num_epochs):\n",
    "        D.zero_grad()\n",
    "        x_1 = torch.from_numpy(next(dist1)).float().cuda()\n",
    "        x_2 = torch.from_numpy(next(dist2)).float().cuda()\n",
    "        y_1 = D(x_1)\n",
    "        y_2 = D(x_2)\n",
    "        a = torch.from_numpy(next(dist_a)).float().cuda()\n",
    "        z = a*x_1 + (1 - a)*x_2\n",
    "        z.requires_grad = True\n",
    "        y_z = D(z)\n",
    "        grad_z = torch.autograd.grad(y_z, z, grad_outputs=torch.ones(y_z.size()).cuda(), retain_graph=True, create_graph=True, only_inputs=True)[0]\n",
    "        loss = -(torch.mean(y_1) - torch.mean(y_2) - lambda_*torch.mean((torch.norm(grad_z, p=2, dim=1)-1)**2))\n",
    "            \n",
    "        loss.backward()\n",
    "        optimizer.step()\n",
    "    return (torch.mean(y_1) - torch.mean(y_2)).data.cpu().numpy()"
   ]
  },
  {
   "cell_type": "markdown",
   "metadata": {
    "colab_type": "text",
    "id": "E5crhoqcEEUu"
   },
   "source": [
    "\n",
    "### Plotting the estimated JSD and the WD\n",
    "\n"
   ]
  },
  {
   "cell_type": "code",
   "execution_count": 12,
   "metadata": {
    "colab": {
     "base_uri": "https://localhost:8080/",
     "height": 675
    },
    "colab_type": "code",
    "id": "i3Eyw6VuNXDu",
    "outputId": "2dc23f85-787a-438b-de5c-9919ea28dd47"
   },
   "outputs": [
    {
     "name": "stdout",
     "output_type": "stream",
     "text": [
      "x = -1.0\n"
     ]
    },
    {
     "name": "stderr",
     "output_type": "stream",
     "text": [
      "/usr/local/lib/python3.6/dist-packages/torch/nn/functional.py:1332: UserWarning: nn.functional.sigmoid is deprecated. Use torch.sigmoid instead.\n",
      "  warnings.warn(\"nn.functional.sigmoid is deprecated. Use torch.sigmoid instead.\")\n"
     ]
    },
    {
     "name": "stdout",
     "output_type": "stream",
     "text": [
      "x = -0.9\n",
      "x = -0.8\n",
      "x = -0.7\n",
      "x = -0.6\n",
      "x = -0.5\n",
      "x = -0.4\n",
      "x = -0.3\n",
      "x = -0.2\n",
      "x = -0.1\n",
      "x = -0.0\n",
      "x = 0.1\n",
      "x = 0.2\n",
      "x = 0.3\n",
      "x = 0.4\n",
      "x = 0.5\n",
      "x = 0.6\n",
      "x = 0.7\n",
      "x = 0.8\n",
      "x = 0.9\n",
      "x = 1.0\n"
     ]
    },
    {
     "data": {
      "image/png": "[encoded data removed]",
      "text/plain": [
       "<Figure size 432x288 with 1 Axes>"
      ]
     },
     "metadata": {
      "tags": []
     },
     "output_type": "display_data"
    }
   ],
   "source": [
    "JSD_point=[]\n",
    "WD_point=[]\n",
    "dist1 = samplers.distribution1(0)\n",
    "data_points= np.linspace(-1, 1, 21)\n",
    "for x in np.arange(-1.0, 1.01, 0.1):\n",
    "  x = np.around(x, decimals=1)\n",
    "  print(\"x = \" + str(x))\n",
    "  dist2 = samplers.distribution1(x)\n",
    "  _,y=estimate_JSD(dist1, dist2,1000)\n",
    "  JSD_point.append(y)\n",
    "  WD_point.append(estimate_WD(dist1, dist2,1000))\n",
    "plt.plot(data_points, JSD_point, label=\"JSD\")\n",
    "plt.plot(data_points, WD_point, label=\"WD\")\n",
    "plt.legend()\n",
    "plt.show()\n"
   ]
  },
  {
   "cell_type": "markdown",
   "metadata": {
    "colab_type": "text",
    "id": "iarAxopMH24G"
   },
   "source": [
    "### Plotting  the discriminator output and the estimated density"
   ]
  },
  {
   "cell_type": "code",
   "execution_count": 15,
   "metadata": {
    "colab": {
     "base_uri": "https://localhost:8080/",
     "height": 286
    },
    "colab_type": "code",
    "id": "vRKiOaAqNags",
    "outputId": "fe410a2e-0dfd-4399-bc1d-db70db8ad55c"
   },
   "outputs": [
    {
     "data": {
      "text/plain": [
       "[<matplotlib.lines.Line2D at 0x7f4a1f606710>]"
      ]
     },
     "execution_count": 15,
     "metadata": {
      "tags": []
     },
     "output_type": "execute_result"
    },
    {
     "data": {
      "image/png": "[encoded data removed]",
      "text/plain": [
       "<Figure size 432x288 with 1 Axes>"
      ]
     },
     "metadata": {
      "tags": []
     },
     "output_type": "display_data"
    }
   ],
   "source": [
    "plt.figure()\n",
    "\n",
    "# empirical\n",
    "xx = torch.randn(10000)\n",
    "f = lambda x: torch.tanh(x*2+1) + x*0.75\n",
    "d = lambda x: (1-torch.tanh(x*2+1)**2)*2+0.75\n",
    "plt.hist(f(xx), 100, alpha=0.5, density=1)\n",
    "plt.hist(xx, 100, alpha=0.5, density=1)\n",
    "plt.xlim(-5,5)\n",
    " # exact\n",
    "xx = np.linspace(-5,5,1000)\n",
    "N = lambda x: np.exp(-x**2/2.)/((2*np.pi)**0.5)\n",
    "plt.plot(f(torch.from_numpy(xx)).numpy(), d(torch.from_numpy(xx)).numpy()**(-1)*N(xx))\n",
    "plt.plot(xx, N(xx))"
   ]
  },
  {
   "cell_type": "code",
   "execution_count": 17,
   "metadata": {
    "colab": {
     "base_uri": "https://localhost:8080/",
     "height": 70
    },
    "colab_type": "code",
    "id": "P0FNgRt03tP4",
    "outputId": "646a110f-3bf6-4d75-f03f-925a5c9132af"
   },
   "outputs": [
    {
     "name": "stderr",
     "output_type": "stream",
     "text": [
      "/usr/local/lib/python3.6/dist-packages/torch/nn/functional.py:1332: UserWarning: nn.functional.sigmoid is deprecated. Use torch.sigmoid instead.\n",
      "  warnings.warn(\"nn.functional.sigmoid is deprecated. Use torch.sigmoid instead.\")\n"
     ]
    }
   ],
   "source": [
    "f_0 = samplers.distribution3(512)\n",
    "f_1 = samplers.distribution4(512)\n",
    "\n",
    "D, _ = estimate_JSD(f_1, f_0,1000,dim_input=1)     \n",
    "\n",
    "discriminator_input =torch.unsqueeze(torch.from_numpy(xx).float().cuda(), 1)\n",
    "discriminator_output = torch.squeeze(ftl.sigmoid(D(discriminator_input)), 1).data.cpu().numpy()\n",
    "f_estimate = N(xx)*discriminator_output/(1-discriminator_output)\n"
   ]
  },
  {
   "cell_type": "code",
   "execution_count": 19,
   "metadata": {
    "colab": {
     "base_uri": "https://localhost:8080/",
     "height": 300
    },
    "colab_type": "code",
    "id": "tZsaYudlMnPr",
    "outputId": "6c788601-74fc-4857-9c6f-6ae4f4b30c45"
   },
   "outputs": [
    {
     "data": {
      "text/plain": [
       "Text(0.5, 1.0, 'Estimated vs True')"
      ]
     },
     "execution_count": 19,
     "metadata": {
      "tags": []
     },
     "output_type": "execute_result"
    },
    {
     "data": {
      "image/png": "[encoded data removed]",
      "text/plain": [
       "<Figure size 576x288 with 2 Axes>"
      ]
     },
     "metadata": {
      "tags": []
     },
     "output_type": "display_data"
    }
   ],
   "source": [
    "r = discriminator_output # evaluate xx using your discriminator; replace xx with the output\n",
    "plt.figure(figsize=(8,4))\n",
    "plt.subplot(1,2,1)\n",
    "plt.plot(xx,r)\n",
    "plt.title(r'$D(x)$')\n",
    "\n",
    "estimate = f_estimate # estimate the density of distribution4 (on xx) using the discriminator; \n",
    "                                # replace \"np.ones_like(xx)*0.\" with your estimate\n",
    "plt.subplot(1,2,2)\n",
    "plt.plot(xx,estimate)\n",
    "plt.plot(f(torch.from_numpy(xx)).numpy(), d(torch.from_numpy(xx)).numpy()**(-1)*N(xx))\n",
    "plt.legend(['Estimated','True'])\n",
    "plt.title('Estimated vs True')\n"
   ]
  }
 ],
 "metadata": {
  "accelerator": "GPU",
  "colab": {
   "collapsed_sections": [],
   "name": "training.ipynb",
   "provenance": [],
   "toc_visible": true,
   "version": "0.3.2"
  },
  "kernelspec": {
   "display_name": "Python 3",
   "language": "python",
   "name": "python3"
  },
  "language_info": {
   "codemirror_mode": {
    "name": "ipython",
    "version": 3
   },
   "file_extension": ".py",
   "mimetype": "text/x-python",
   "name": "python",
   "nbconvert_exporter": "python",
   "pygments_lexer": "ipython3",
   "version": "3.7.1"
  }
 },
 "nbformat": 4,
 "nbformat_minor": 1
}
